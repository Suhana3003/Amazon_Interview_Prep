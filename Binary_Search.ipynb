{
  "nbformat": 4,
  "nbformat_minor": 0,
  "metadata": {
    "colab": {
      "provenance": [],
      "authorship_tag": "ABX9TyPIadCiDmcAtP9crdBWnl1D",
      "include_colab_link": true
    },
    "kernelspec": {
      "name": "python3",
      "display_name": "Python 3"
    },
    "language_info": {
      "name": "python"
    }
  },
  "cells": [
    {
      "cell_type": "markdown",
      "metadata": {
        "id": "view-in-github",
        "colab_type": "text"
      },
      "source": [
        "<a href=\"https://colab.research.google.com/github/Suhana3003/Amazon_Interview_Prep/blob/main/Binary_Search.ipynb\" target=\"_parent\"><img src=\"https://colab.research.google.com/assets/colab-badge.svg\" alt=\"Open In Colab\"/></a>"
      ]
    },
    {
      "cell_type": "code",
      "execution_count": 1,
      "metadata": {
        "id": "6qXGJlO4dtEr"
      },
      "outputs": [],
      "source": [
        "def Binary_search(arr, target):\n",
        "    low = 0\n",
        "    high = len(arr) - 1\n",
        "    while low <= high:\n",
        "        mid = (low + high) // 2\n",
        "        if arr[mid] == target:\n",
        "            return mid\n",
        "        elif arr[mid] < target:\n",
        "            low = mid + 1\n",
        "        else:\n",
        "            high = mid - 1\n",
        "    return -1"
      ]
    },
    {
      "cell_type": "code",
      "source": [
        "arr = [0,1,2,3,4,5,6]\n",
        "target = 7\n",
        "Binary_search(arr, target)"
      ],
      "metadata": {
        "colab": {
          "base_uri": "https://localhost:8080/"
        },
        "id": "b7DtoOcphKi9",
        "outputId": "529de3e2-4cee-4114-871d-924bca4b716a"
      },
      "execution_count": 11,
      "outputs": [
        {
          "output_type": "execute_result",
          "data": {
            "text/plain": [
              "-1"
            ]
          },
          "metadata": {},
          "execution_count": 11
        }
      ]
    },
    {
      "cell_type": "code",
      "source": [
        "def Lower_Bound(arr, num):\n",
        "    low = 0\n",
        "    high = len(arr) - 1\n",
        "    res = len(arr)\n",
        "    while low <= high:\n",
        "        mid = (low + high) // 2\n",
        "        if arr[mid] >= num:\n",
        "            res = mid\n",
        "            high = mid - 1\n",
        "        else:\n",
        "            low = mid + 1\n",
        "    return res"
      ],
      "metadata": {
        "id": "QGflSXbDhpC0"
      },
      "execution_count": 18,
      "outputs": []
    },
    {
      "cell_type": "code",
      "source": [
        "arr = [3, 5, 8, 15, 19]\n",
        "num = 9\n",
        "Lower_Bound(arr, num)"
      ],
      "metadata": {
        "colab": {
          "base_uri": "https://localhost:8080/"
        },
        "id": "453r72w1iVCb",
        "outputId": "a2d03395-3021-4ca5-fa20-1a094d5a5f07"
      },
      "execution_count": 19,
      "outputs": [
        {
          "output_type": "execute_result",
          "data": {
            "text/plain": [
              "3"
            ]
          },
          "metadata": {},
          "execution_count": 19
        }
      ]
    },
    {
      "cell_type": "code",
      "source": [
        "def Upper_Bound(arr, num):\n",
        "    low = 0\n",
        "    high = len(arr) - 1\n",
        "    res = len(arr)\n",
        "    while low <= high:\n",
        "        mid = (low + high) // 2\n",
        "        if arr[mid] <= num:\n",
        "            low = mid + 1\n",
        "        else:\n",
        "            res = mid\n",
        "            high = mid - 1\n",
        "    return res"
      ],
      "metadata": {
        "id": "mqGCu4SuioU1"
      },
      "execution_count": 22,
      "outputs": []
    },
    {
      "cell_type": "code",
      "source": [
        "arr = [3, 5, 8, 9, 15, 19]\n",
        "num = 9\n",
        "Upper_Bound(arr, num)"
      ],
      "metadata": {
        "colab": {
          "base_uri": "https://localhost:8080/"
        },
        "id": "odLrATfPjYlk",
        "outputId": "ea46e57f-7297-4b0c-d0aa-e14081f9a8d7"
      },
      "execution_count": 23,
      "outputs": [
        {
          "output_type": "execute_result",
          "data": {
            "text/plain": [
              "4"
            ]
          },
          "metadata": {},
          "execution_count": 23
        }
      ]
    },
    {
      "cell_type": "code",
      "source": [
        "def Search_index(arr, num):\n",
        "    low = 0\n",
        "    high =len(arr) - 1\n",
        "    res = len(arr)\n",
        "    while low <= high:\n",
        "        mid = (low + high) // 2\n",
        "        if arr[mid] >= num:\n",
        "            res = mid\n",
        "            high = mid - 1\n",
        "        else:\n",
        "            low = mid + 1\n",
        "    return res"
      ],
      "metadata": {
        "id": "AY3D6jY3jt5i"
      },
      "execution_count": 24,
      "outputs": []
    },
    {
      "cell_type": "code",
      "source": [
        "arr = [1, 2, 4, 7]\n",
        "num = 8\n",
        "Search_index(arr, num)"
      ],
      "metadata": {
        "colab": {
          "base_uri": "https://localhost:8080/"
        },
        "id": "cKzimtZBkWFT",
        "outputId": "e71077fc-19eb-4b4d-84cb-70d2ae1a5c66"
      },
      "execution_count": 27,
      "outputs": [
        {
          "output_type": "execute_result",
          "data": {
            "text/plain": [
              "4"
            ]
          },
          "metadata": {},
          "execution_count": 27
        }
      ]
    },
    {
      "cell_type": "code",
      "source": [
        "def Floor(arr, num):\n",
        "    low = 0\n",
        "    high = len(arr) - 1\n",
        "    res = arr[-1]\n",
        "    while low <= high:\n",
        "        mid = (low + high) // 2\n",
        "        if arr[mid] <= num:\n",
        "            res = arr[mid]\n",
        "            low = mid + 1\n",
        "        else:\n",
        "            high = mid - 1\n",
        "    return res"
      ],
      "metadata": {
        "id": "T_7FJJqCk4s_"
      },
      "execution_count": 36,
      "outputs": []
    },
    {
      "cell_type": "code",
      "source": [
        "def Ceil(arr, num):\n",
        "    low = 0\n",
        "    high = len(arr) - 1\n",
        "    res = arr[-1]\n",
        "    while low <= high:\n",
        "        mid = (low + high) // 2\n",
        "        if arr[mid] >= num:\n",
        "            res = arr[mid]\n",
        "            high = mid - 1\n",
        "        else:\n",
        "            low = mid + 1\n",
        "    return res"
      ],
      "metadata": {
        "id": "9ZCKVcXjlO7y"
      },
      "execution_count": 37,
      "outputs": []
    },
    {
      "cell_type": "code",
      "source": [
        "def Floor_and_ceil(arr, num):\n",
        "    return [Floor(arr, num), Ceil(arr, num)]"
      ],
      "metadata": {
        "id": "J87n7Dm6lya_"
      },
      "execution_count": 38,
      "outputs": []
    },
    {
      "cell_type": "code",
      "source": [
        "arr = [3, 4, 4, 7, 8, 10]\n",
        "num = 6\n",
        "Floor_and_ceil(arr, num)"
      ],
      "metadata": {
        "colab": {
          "base_uri": "https://localhost:8080/"
        },
        "id": "f_SEtDYzl6pM",
        "outputId": "cb4fa0fc-9853-40a1-de12-9eeff95a4e2f"
      },
      "execution_count": 41,
      "outputs": [
        {
          "output_type": "execute_result",
          "data": {
            "text/plain": [
              "[4, 7]"
            ]
          },
          "metadata": {},
          "execution_count": 41
        }
      ]
    },
    {
      "cell_type": "code",
      "source": [
        "def Last_occurence(arr, num):\n",
        "    low = 0\n",
        "    high = len(arr) - 1\n",
        "    res = -1\n",
        "    while low <= high:\n",
        "        mid = (low + high) // 2\n",
        "        if arr[mid] == num:\n",
        "            res = mid\n",
        "            low = mid + 1\n",
        "        elif arr[mid] > num:\n",
        "            high = mid - 1\n",
        "        else:\n",
        "            low = mid + 1\n",
        "    return res"
      ],
      "metadata": {
        "id": "4KKw4yhZmtTt"
      },
      "execution_count": 42,
      "outputs": []
    },
    {
      "cell_type": "code",
      "source": [
        "arr = [3,4,13,13,13,20,40]\n",
        "num = 13\n",
        "Last_occurence(arr, num)"
      ],
      "metadata": {
        "colab": {
          "base_uri": "https://localhost:8080/"
        },
        "id": "gumQGb0_nMn9",
        "outputId": "9f40675b-adca-4325-8bb9-72f2d4488f21"
      },
      "execution_count": 43,
      "outputs": [
        {
          "output_type": "execute_result",
          "data": {
            "text/plain": [
              "4"
            ]
          },
          "metadata": {},
          "execution_count": 43
        }
      ]
    },
    {
      "cell_type": "code",
      "source": [
        "def First_occurence(arr, num):\n",
        "    low = 0\n",
        "    high = len(arr) - 1\n",
        "    res = -1\n",
        "    while low <= high:\n",
        "        mid = (low + high) // 2\n",
        "        if arr[mid] == num:\n",
        "            res = mid\n",
        "            high = mid - 1\n",
        "        elif arr[mid] > num:\n",
        "            high = mid - 1\n",
        "        else:\n",
        "            low = mid + 1\n",
        "    return res"
      ],
      "metadata": {
        "id": "aVuw39O2na-x"
      },
      "execution_count": 44,
      "outputs": []
    },
    {
      "cell_type": "code",
      "source": [
        "arr = [3,4,13,13,13,20,40]\n",
        "num = 13\n",
        "First_occurence(arr, num)"
      ],
      "metadata": {
        "colab": {
          "base_uri": "https://localhost:8080/"
        },
        "id": "oXjKPnVtoOD1",
        "outputId": "9413a1a0-8932-4784-b5e2-01a5c3086622"
      },
      "execution_count": 45,
      "outputs": [
        {
          "output_type": "execute_result",
          "data": {
            "text/plain": [
              "2"
            ]
          },
          "metadata": {},
          "execution_count": 45
        }
      ]
    },
    {
      "cell_type": "code",
      "source": [
        "def Count_occurences(arr, num):\n",
        "    first = First_occurence(arr, num)\n",
        "    last = Last_occurence(arr, num)\n",
        "    if first == -1:\n",
        "        return 0\n",
        "    return last - first + 1"
      ],
      "metadata": {
        "id": "zv3EkMFxoR43"
      },
      "execution_count": 46,
      "outputs": []
    },
    {
      "cell_type": "code",
      "source": [
        "arr = [2, 4, 6, 8, 8, 8, 11, 13]\n",
        "num = 8\n",
        "Count_occurences(arr, num)"
      ],
      "metadata": {
        "colab": {
          "base_uri": "https://localhost:8080/"
        },
        "id": "TWedvyxEwB2Q",
        "outputId": "171fecb1-9bf7-412d-a3fe-7ff4194dc9f1"
      },
      "execution_count": 49,
      "outputs": [
        {
          "output_type": "execute_result",
          "data": {
            "text/plain": [
              "3"
            ]
          },
          "metadata": {},
          "execution_count": 49
        }
      ]
    },
    {
      "cell_type": "code",
      "source": [
        "def search_in_sorted_array(arr, num):\n",
        "    low = 0\n",
        "    high = len(arr) - 1\n",
        "    while low <= high:\n",
        "        mid = (low + high) // 2\n",
        "        if arr[mid] == num:\n",
        "            return mid\n",
        "        elif arr[mid] >= arr[low]:\n",
        "            # left side of array is sorted\n",
        "            if arr[mid] > num and arr[low] <= num:\n",
        "                high = mid - 1\n",
        "            else:\n",
        "                low = mid + 1\n",
        "        else:\n",
        "            if arr[mid] < num and arr[high] >= num:\n",
        "                low = mid + 1\n",
        "            else:\n",
        "                high = mid - 1"
      ],
      "metadata": {
        "id": "UBjoAGOh06De"
      },
      "execution_count": 50,
      "outputs": []
    },
    {
      "cell_type": "code",
      "source": [
        "arr = [7, 8, 9, 1, 2, 3, 4, 5, 6]\n",
        "num = 5\n",
        "search_in_sorted_array(arr, num)"
      ],
      "metadata": {
        "colab": {
          "base_uri": "https://localhost:8080/"
        },
        "id": "gXvRiKcr2HSx",
        "outputId": "11a94043-1214-40c5-aff8-937b17edf623"
      },
      "execution_count": 53,
      "outputs": [
        {
          "output_type": "execute_result",
          "data": {
            "text/plain": [
              "7"
            ]
          },
          "metadata": {},
          "execution_count": 53
        }
      ]
    },
    {
      "cell_type": "code",
      "source": [
        "def search_in_sorted_array_2(arr, num):\n",
        "    low = 0\n",
        "    high = len(arr) - 1\n",
        "    while low <= high:\n",
        "        mid = (low + high) // 2\n",
        "        if arr[mid] == num:\n",
        "            return True\n",
        "        elif arr[mid] >= arr[low]:\n",
        "            # left side of array is sorted\n",
        "            if arr[mid] > num and arr[low] <= num:\n",
        "                high = mid - 1\n",
        "            else:\n",
        "                low = mid + 1\n",
        "        else:\n",
        "            if arr[mid] < num and arr[high] >= num:\n",
        "                low = mid + 1\n",
        "            else:\n",
        "                high = mid - 1\n",
        "    return False"
      ],
      "metadata": {
        "id": "-Pj13JGB2dS_"
      },
      "execution_count": 54,
      "outputs": []
    },
    {
      "cell_type": "code",
      "source": [
        "arr = [7, 8, 9, 1, 2, 3, 4, 5, 6]\n",
        "num = 10\n",
        "search_in_sorted_array_2(arr, num)"
      ],
      "metadata": {
        "colab": {
          "base_uri": "https://localhost:8080/"
        },
        "id": "p1M-tDXR2iuh",
        "outputId": "d5a6b1a6-0f8e-47f1-c846-da8966d68412"
      },
      "execution_count": 56,
      "outputs": [
        {
          "output_type": "execute_result",
          "data": {
            "text/plain": [
              "False"
            ]
          },
          "metadata": {},
          "execution_count": 56
        }
      ]
    },
    {
      "cell_type": "code",
      "source": [
        "def min_element_sorted_array(arr):\n",
        "    import sys\n",
        "    low = 0\n",
        "    high = len(arr) - 1\n",
        "    ans = sys.maxsize\n",
        "    while low <= high:\n",
        "        mid = (low + high) // 2\n",
        "        if arr[low] < arr[high]:\n",
        "            ans = min(ans, arr[low])\n",
        "        if arr[mid] >= arr[low]:\n",
        "            ans = min(ans, arr[low])\n",
        "            low = mid + 1\n",
        "        else:\n",
        "            ans = min(ans, arr[mid])\n",
        "            high = mid - 1\n",
        "    return ans"
      ],
      "metadata": {
        "id": "GgDTbzGE28RK"
      },
      "execution_count": 57,
      "outputs": []
    },
    {
      "cell_type": "code",
      "source": [
        "arr = [4, 5, 6, 7, 1, 2, 3]\n",
        "min_element_sorted_array(arr)"
      ],
      "metadata": {
        "colab": {
          "base_uri": "https://localhost:8080/"
        },
        "id": "RE9yBb9D4Ysw",
        "outputId": "6cfceed4-06dd-44b1-d5a6-6b023c6a1a97"
      },
      "execution_count": 59,
      "outputs": [
        {
          "output_type": "execute_result",
          "data": {
            "text/plain": [
              "1"
            ]
          },
          "metadata": {},
          "execution_count": 59
        }
      ]
    },
    {
      "cell_type": "code",
      "source": [
        "def number_of_rotations(arr):\n",
        "    import sys\n",
        "    low = 0\n",
        "    high = len(arr) - 1\n",
        "    ans = float('inf')\n",
        "    index = -1\n",
        "    while low <= high:\n",
        "        mid = (low + high) // 2\n",
        "        if arr[low] <= arr[high]:\n",
        "            if arr[low] < ans:\n",
        "                index = low\n",
        "                ans = arr[low]\n",
        "            break\n",
        "\n",
        "        if arr[low] <= arr[mid]:\n",
        "            if arr[low] < ans:\n",
        "                index = low\n",
        "                ans = arr[low]\n",
        "\n",
        "            low = mid + 1\n",
        "        else:\n",
        "            if arr[mid] < ans:\n",
        "                index = mid\n",
        "                ans = arr[mid]\n",
        "            high = mid - 1\n",
        "\n",
        "    return index"
      ],
      "metadata": {
        "id": "SOhXTL0gCOz-"
      },
      "execution_count": 60,
      "outputs": []
    },
    {
      "cell_type": "code",
      "source": [
        "arr = [4, 5, 6, 7, 0, 1, 2, 3]\n",
        "number_of_rotations(arr)"
      ],
      "metadata": {
        "colab": {
          "base_uri": "https://localhost:8080/"
        },
        "id": "Qo43wp5WEIWM",
        "outputId": "7c646a44-3574-4769-ae11-23edf7b7fafa"
      },
      "execution_count": 62,
      "outputs": [
        {
          "output_type": "execute_result",
          "data": {
            "text/plain": [
              "4"
            ]
          },
          "metadata": {},
          "execution_count": 62
        }
      ]
    },
    {
      "cell_type": "code",
      "source": [
        "def search_single_element(arr):\n",
        "    n = len(arr)\n",
        "    if n == 1:\n",
        "        return arr[0]\n",
        "    if arr[0] != arr[1]:\n",
        "        return arr[0]\n",
        "    if arr[n - 1] != arr[n - 2]:\n",
        "        return arr[n - 1]\n",
        "\n",
        "    low = 1\n",
        "    high = n - 2\n",
        "    while low <= high:\n",
        "        mid = (low + high) // 2\n",
        "        if arr[mid] != arr[mid + 1] and arr[mid] != arr[mid - 1]:\n",
        "            return arr[mid]\n",
        "\n",
        "        if (mid % 2 == 1 and arr[mid] == arr[mid - 1]) or (mid % 2 == 0 and arr[mid] == arr[mid + 1]):\n",
        "            low = mid + 1\n",
        "\n",
        "        else:\n",
        "            high = mid - 1\n",
        "\n",
        "    return -1"
      ],
      "metadata": {
        "id": "JI004JDIMYES"
      },
      "execution_count": 63,
      "outputs": []
    },
    {
      "cell_type": "code",
      "source": [
        "arr = [1, 1, 2, 2, 3, 3, 4, 5, 5, 6, 6]\n",
        "search_single_element(arr)"
      ],
      "metadata": {
        "colab": {
          "base_uri": "https://localhost:8080/"
        },
        "id": "gKlGhZ2yb6Qu",
        "outputId": "eaa5f4ba-3d4b-40b3-ccbf-894eeadefebe"
      },
      "execution_count": 64,
      "outputs": [
        {
          "output_type": "execute_result",
          "data": {
            "text/plain": [
              "4"
            ]
          },
          "metadata": {},
          "execution_count": 64
        }
      ]
    },
    {
      "cell_type": "code",
      "source": [
        "def peak_element(arr):\n",
        "    n = len(arr)\n",
        "    if n == 1:\n",
        "        return 0\n",
        "    if arr[0] > arr[1]:\n",
        "        return 0\n",
        "    if arr[n - 1] > arr[n - 2]:\n",
        "        return n - 1\n",
        "\n",
        "    low = 1\n",
        "    high = n - 2\n",
        "    while low <= high:\n",
        "        mid = (low + high) // 2\n",
        "\n",
        "        if arr[mid - 1] < arr[mid] and arr[mid] > arr[mid + 1]:\n",
        "            return mid\n",
        "\n",
        "        if arr[mid] > arr[mid - 1]:\n",
        "            low = mid + 1\n",
        "\n",
        "        else:\n",
        "            high = mid - 1\n",
        "\n",
        "    return -1"
      ],
      "metadata": {
        "id": "F9AtoTK4dy_7"
      },
      "execution_count": 65,
      "outputs": []
    },
    {
      "cell_type": "code",
      "source": [
        "peak_element([1, 2, 3, 4, 5, 6, 7, 8, 5, 1])"
      ],
      "metadata": {
        "colab": {
          "base_uri": "https://localhost:8080/"
        },
        "id": "CiiGB0oyd-rG",
        "outputId": "ae50e8cd-4bd8-4d43-b672-c79cdc67520a"
      },
      "execution_count": 66,
      "outputs": [
        {
          "output_type": "execute_result",
          "data": {
            "text/plain": [
              "7"
            ]
          },
          "metadata": {},
          "execution_count": 66
        }
      ]
    }
  ]
}