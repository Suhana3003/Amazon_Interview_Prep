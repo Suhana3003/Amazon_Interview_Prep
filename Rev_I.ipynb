{
  "nbformat": 4,
  "nbformat_minor": 0,
  "metadata": {
    "colab": {
      "provenance": [],
      "authorship_tag": "ABX9TyP33xDE/MM40Pa5lF7E2r7t",
      "include_colab_link": true
    },
    "kernelspec": {
      "name": "python3",
      "display_name": "Python 3"
    },
    "language_info": {
      "name": "python"
    }
  },
  "cells": [
    {
      "cell_type": "markdown",
      "metadata": {
        "id": "view-in-github",
        "colab_type": "text"
      },
      "source": [
        "<a href=\"https://colab.research.google.com/github/Suhana3003/Amazon_Interview_Prep/blob/main/Rev_I.ipynb\" target=\"_parent\"><img src=\"https://colab.research.google.com/assets/colab-badge.svg\" alt=\"Open In Colab\"/></a>"
      ]
    },
    {
      "cell_type": "markdown",
      "source": [
        "1. BFS\n",
        "2. DFS\n",
        "3. BINARY SEARCH\n",
        "4. PRINT ALL SUBSEQENCES (RECURSIVE + POWER SET)\n",
        "5. COUNT SUBSEQUENCES WITH SUM\n",
        "6. LEVEL ORDER TRAVERSAL\n",
        "7. DETECT CYCLE IN UNDIRECTED GRAPH\n",
        "8. TOPOLOGICAL SORTING (DFS, KAHN'S ALGO)\n",
        "9. LONGEST COMMON SUBSEQUENCE\n",
        "10. SHORTEST COMMON SUPERSEQUENCE\n",
        "11. LONGEST INCREASING SUBSEQUENCE\n",
        "12. EUCLIDEAN'S ALGO TO FIND GCD"
      ],
      "metadata": {
        "id": "j2gD6Pi2YwHa"
      }
    },
    {
      "cell_type": "code",
      "source": [
        "def euclidean_gcd(num1, num2):\n",
        "    if num2 == 0:\n",
        "        return num1\n",
        "    else:\n",
        "        return euclidean_gcd(num2, num1 % num2)"
      ],
      "metadata": {
        "id": "iggGaVL9maVi"
      },
      "execution_count": 55,
      "outputs": []
    },
    {
      "cell_type": "code",
      "source": [
        "euclidean_gcd(9,2)"
      ],
      "metadata": {
        "colab": {
          "base_uri": "https://localhost:8080/"
        },
        "id": "mpXZVNYomlgf",
        "outputId": "4421c8c9-bc90-4235-8d4b-3b188d6852b3"
      },
      "execution_count": 57,
      "outputs": [
        {
          "output_type": "execute_result",
          "data": {
            "text/plain": [
              "1"
            ]
          },
          "metadata": {},
          "execution_count": 57
        }
      ]
    },
    {
      "cell_type": "code",
      "source": [
        "def bfs(graph, start_index, vis):\n",
        "    from collections import deque\n",
        "    queue = deque()\n",
        "    queue.append(start_index)\n",
        "    while queue:\n",
        "        vertex = queue.popleft()\n",
        "        if not vis[vertex]:\n",
        "            vis[vertex] = 1\n",
        "            print(vertex)\n",
        "            queue.extend(graph[vertex])\n",
        "    return"
      ],
      "metadata": {
        "id": "dWdVNbxpbDic"
      },
      "execution_count": 1,
      "outputs": []
    },
    {
      "cell_type": "code",
      "source": [
        "graph = {0:[1,2], 1:[0, 3], 2:[0,3], 3:[1,2]}\n",
        "vis = [0] * 4\n",
        "bfs(graph, 0, vis)"
      ],
      "metadata": {
        "colab": {
          "base_uri": "https://localhost:8080/"
        },
        "id": "IiBY1N_mbuRi",
        "outputId": "f65ff63d-ea83-4459-be2b-242cad38b913"
      },
      "execution_count": 2,
      "outputs": [
        {
          "output_type": "stream",
          "name": "stdout",
          "text": [
            "0\n",
            "1\n",
            "2\n",
            "3\n"
          ]
        }
      ]
    },
    {
      "cell_type": "code",
      "source": [
        "def dfs(graph, start_index, vis):\n",
        "    vis[start_index] = 1\n",
        "    print(start_index)\n",
        "    for node in graph[start_index]:\n",
        "        if not vis[node]:\n",
        "            dfs(graph, node, vis)\n",
        "    return"
      ],
      "metadata": {
        "id": "iTWDpsAccHk6"
      },
      "execution_count": 3,
      "outputs": []
    },
    {
      "cell_type": "code",
      "source": [
        "graph = {0:[1,2], 1:[0, 3], 2:[0,3], 3:[1,2]}\n",
        "vis = [0] * 4\n",
        "dfs(graph, 0, vis)"
      ],
      "metadata": {
        "colab": {
          "base_uri": "https://localhost:8080/"
        },
        "id": "LET8sZ7ycXAu",
        "outputId": "507b2fba-ed3f-4ebb-8090-2daf43c56e84"
      },
      "execution_count": 4,
      "outputs": [
        {
          "output_type": "stream",
          "name": "stdout",
          "text": [
            "0\n",
            "1\n",
            "3\n",
            "2\n"
          ]
        }
      ]
    },
    {
      "cell_type": "code",
      "source": [
        "def binary_search(arr, target):\n",
        "    low = 0\n",
        "    high = len(arr)\n",
        "    while low <= high:\n",
        "        mid = (low + high) // 2\n",
        "        if arr[mid] == target:\n",
        "            return mid\n",
        "        elif arr[mid] > target:\n",
        "            high = mid - 1\n",
        "        else:\n",
        "            low = mid + 1\n",
        "    return -1"
      ],
      "metadata": {
        "id": "mqpnSY1lca5M"
      },
      "execution_count": 5,
      "outputs": []
    },
    {
      "cell_type": "code",
      "source": [
        "binary_search([1,2,3,5,8,9], 5)"
      ],
      "metadata": {
        "colab": {
          "base_uri": "https://localhost:8080/"
        },
        "id": "COAkiiT1dDS9",
        "outputId": "9c800613-d089-4388-f700-465a4a3ec493"
      },
      "execution_count": 6,
      "outputs": [
        {
          "output_type": "execute_result",
          "data": {
            "text/plain": [
              "3"
            ]
          },
          "metadata": {},
          "execution_count": 6
        }
      ]
    },
    {
      "cell_type": "code",
      "source": [
        "def binary_search_recursive(arr, low, high, target):\n",
        "    if low > high:\n",
        "        return -1\n",
        "    mid = (low + high) // 2\n",
        "    if target == arr[mid]:\n",
        "        return mid\n",
        "    elif target > arr[mid]:\n",
        "        return binary_search_recursive(arr, mid + 1, high, target)\n",
        "    else:\n",
        "        return binary_search_recursive(arr, low, mid - 1, target)"
      ],
      "metadata": {
        "id": "aZ3cbJxidJBf"
      },
      "execution_count": 10,
      "outputs": []
    },
    {
      "cell_type": "code",
      "source": [
        "binary_search_recursive([1,2,3,5,8,9], 0, 5, 5)"
      ],
      "metadata": {
        "colab": {
          "base_uri": "https://localhost:8080/"
        },
        "id": "R30pzIqpeDH0",
        "outputId": "b75f8ce8-ced9-42a6-8677-45ea3bad112f"
      },
      "execution_count": 11,
      "outputs": [
        {
          "output_type": "execute_result",
          "data": {
            "text/plain": [
              "3"
            ]
          },
          "metadata": {},
          "execution_count": 11
        }
      ]
    },
    {
      "cell_type": "code",
      "source": [
        "def print_subsequences(arr, curr, sub):\n",
        "    n = len(arr)\n",
        "    if n <= curr:\n",
        "        print(sub)\n",
        "        return\n",
        "    print_subsequences(arr, curr + 1, sub + [arr[curr]])\n",
        "    print_subsequences(arr, curr + 1, sub)"
      ],
      "metadata": {
        "id": "DQg3FjzzeTqE"
      },
      "execution_count": 12,
      "outputs": []
    },
    {
      "cell_type": "code",
      "source": [
        "print_subsequences([1,2,3], 0, [])"
      ],
      "metadata": {
        "colab": {
          "base_uri": "https://localhost:8080/"
        },
        "id": "aBomNWeyeupP",
        "outputId": "10490f69-56c1-48e5-e04b-7494559f0d47"
      },
      "execution_count": 13,
      "outputs": [
        {
          "output_type": "stream",
          "name": "stdout",
          "text": [
            "[1, 2, 3]\n",
            "[1, 2]\n",
            "[1, 3]\n",
            "[1]\n",
            "[2, 3]\n",
            "[2]\n",
            "[3]\n",
            "[]\n"
          ]
        }
      ]
    },
    {
      "cell_type": "code",
      "source": [
        "def print_subsequences_power_set(arr):\n",
        "    n = len(arr)\n",
        "    ans = []\n",
        "    for i in range(1 << n):\n",
        "        ds = []\n",
        "        for bit in range(n):\n",
        "            if i & (1 << bit):\n",
        "                ds.append(arr[bit])\n",
        "        ans.append(ds)\n",
        "    return ans"
      ],
      "metadata": {
        "id": "SEYsqqene1hW"
      },
      "execution_count": 14,
      "outputs": []
    },
    {
      "cell_type": "code",
      "source": [
        "print_subsequences_power_set([1,2,3,4])"
      ],
      "metadata": {
        "colab": {
          "base_uri": "https://localhost:8080/"
        },
        "id": "oXH_XaOMfzUT",
        "outputId": "d1df65c3-50a3-4df5-84f6-b6a9f59fadb9"
      },
      "execution_count": 17,
      "outputs": [
        {
          "output_type": "execute_result",
          "data": {
            "text/plain": [
              "[[],\n",
              " [1],\n",
              " [2],\n",
              " [1, 2],\n",
              " [3],\n",
              " [1, 3],\n",
              " [2, 3],\n",
              " [1, 2, 3],\n",
              " [4],\n",
              " [1, 4],\n",
              " [2, 4],\n",
              " [1, 2, 4],\n",
              " [3, 4],\n",
              " [1, 3, 4],\n",
              " [2, 3, 4],\n",
              " [1, 2, 3, 4]]"
            ]
          },
          "metadata": {},
          "execution_count": 17
        }
      ]
    },
    {
      "cell_type": "code",
      "source": [
        "def print_sub(arr, curr, sub):\n",
        "    n = len(arr)\n",
        "    if n <= curr:\n",
        "        print(sub[:])\n",
        "        return\n",
        "    sub.append(arr[curr])\n",
        "    print_sub(arr, curr + 1, sub)\n",
        "    sub.pop()\n",
        "    print_sub(arr, curr + 1, sub)"
      ],
      "metadata": {
        "id": "0U0V-JpegEIo"
      },
      "execution_count": 31,
      "outputs": []
    },
    {
      "cell_type": "code",
      "source": [
        "print_sub([1,2,3], 0, [])"
      ],
      "metadata": {
        "colab": {
          "base_uri": "https://localhost:8080/"
        },
        "id": "G21TnhAEgiVP",
        "outputId": "9fc56186-3d2a-4d24-e73c-38c7cf0f7a12"
      },
      "execution_count": 32,
      "outputs": [
        {
          "output_type": "stream",
          "name": "stdout",
          "text": [
            "[1, 2, 3]\n",
            "[1, 2]\n",
            "[1, 3]\n",
            "[1]\n",
            "[2, 3]\n",
            "[2]\n",
            "[3]\n",
            "[]\n"
          ]
        }
      ]
    },
    {
      "cell_type": "code",
      "source": [
        "def sub_sum_k(arr, target, curr, sub):\n",
        "    n = len(arr)\n",
        "    if n <= curr:\n",
        "        if target == 0:\n",
        "            print(sub[:])\n",
        "        return\n",
        "    sub.append(arr[curr])\n",
        "    sub_sum_k(arr, target - arr[curr], curr + 1, sub)\n",
        "    sub.pop()\n",
        "    sub_sum_k(arr, target, curr + 1, sub)"
      ],
      "metadata": {
        "id": "Vx0wsAW0hVLJ"
      },
      "execution_count": 35,
      "outputs": []
    },
    {
      "cell_type": "code",
      "source": [
        "sub_sum_k([1,2,3], 3, 0, [])"
      ],
      "metadata": {
        "colab": {
          "base_uri": "https://localhost:8080/"
        },
        "id": "i-KhRhJhiMba",
        "outputId": "4a95d8e3-bbd4-4388-e69e-44c062ade14f"
      },
      "execution_count": 36,
      "outputs": [
        {
          "output_type": "stream",
          "name": "stdout",
          "text": [
            "[1, 2]\n",
            "[3]\n"
          ]
        }
      ]
    },
    {
      "cell_type": "code",
      "source": [
        "def findWays(arr, k):\n",
        "    def findways_helper(arr, ind, k):\n",
        "        if k == 0:\n",
        "            return 1\n",
        "        if ind < 0 or k < 0:\n",
        "            return 0\n",
        "        dp = [[-1 for _ in range(k + 1)] for _ in range(len(arr))]\n",
        "        if dp[ind][k] != -1:\n",
        "            return dp[ind][k]\n",
        "        notpick = 0 + findways_helper(arr, ind - 1, k)\n",
        "        pick = 0\n",
        "        if arr[ind] <= k:\n",
        "            pick = findways_helper(arr, ind - 1, k - arr[ind])\n",
        "        dp[ind][k] = pick + notpick\n",
        "        return dp[ind][k]\n",
        "\n",
        "    n = len(arr) - 1\n",
        "    return findways_helper(arr, n, k)"
      ],
      "metadata": {
        "id": "xjepBwoNiXno"
      },
      "execution_count": 50,
      "outputs": []
    },
    {
      "cell_type": "code",
      "source": [
        "findWays([1,2,3],3)"
      ],
      "metadata": {
        "colab": {
          "base_uri": "https://localhost:8080/"
        },
        "id": "PTjjm--0jlCt",
        "outputId": "a4bddb73-e118-4028-f2ae-772bbdd6049c"
      },
      "execution_count": 51,
      "outputs": [
        {
          "output_type": "execute_result",
          "data": {
            "text/plain": [
              "2"
            ]
          },
          "metadata": {},
          "execution_count": 51
        }
      ]
    },
    {
      "cell_type": "code",
      "source": [
        "class TreeNode:\n",
        "    def __init__(self, val=0, left=None, right=None):\n",
        "        self.val = val\n",
        "        self.left = left\n",
        "        self.right = right\n",
        "\n",
        "def level_order_traversal(root):\n",
        "    from collections import deque\n",
        "    queue = deque()\n",
        "    queue.append(root)\n",
        "    ans = []\n",
        "    while queue:\n",
        "        level = []\n",
        "        level_size = len(queue)\n",
        "        for _ in range(level_size):\n",
        "            node = queue.popleft()\n",
        "            level.append(node.val)  # Append the node's value to the level list\n",
        "            if node.left:\n",
        "                queue.append(node.left)\n",
        "            if node.right:\n",
        "                queue.append(node.right)\n",
        "        ans.append(level)\n",
        "    return ans\n",
        "\n",
        "# Create a sample binary tree\n",
        "root = TreeNode(1)\n",
        "root.left = TreeNode(2)\n",
        "root.right = TreeNode(3)\n",
        "root.left.left = TreeNode(4)\n",
        "root.left.right = TreeNode(5)\n",
        "root.right.left = TreeNode(6)\n",
        "root.right.right = TreeNode(7)\n",
        "\n",
        "# Perform level-order traversal and print the result\n",
        "traversal_result = level_order_traversal(root)\n",
        "for level in traversal_result:\n",
        "    print(level)\n"
      ],
      "metadata": {
        "colab": {
          "base_uri": "https://localhost:8080/"
        },
        "id": "wUjTsEcHlDxM",
        "outputId": "4980cb02-c9db-45b3-ec8f-d0fa4252df48"
      },
      "execution_count": 54,
      "outputs": [
        {
          "output_type": "stream",
          "name": "stdout",
          "text": [
            "[1]\n",
            "[2, 3]\n",
            "[4, 5, 6, 7]\n"
          ]
        }
      ]
    },
    {
      "cell_type": "code",
      "source": [
        "def detect_cycle(graph):\n",
        "    pass"
      ],
      "metadata": {
        "id": "XccLM-xFl-6T"
      },
      "execution_count": null,
      "outputs": []
    },
    {
      "cell_type": "code",
      "source": [
        "def topo_sort(graph):\n",
        "    pass"
      ],
      "metadata": {
        "id": "eFS0Zp1FmELh"
      },
      "execution_count": null,
      "outputs": []
    },
    {
      "cell_type": "code",
      "source": [
        "def kahnAlgo(graph):\n",
        "    pass"
      ],
      "metadata": {
        "id": "_t75_pWBmrzh"
      },
      "execution_count": null,
      "outputs": []
    },
    {
      "cell_type": "code",
      "source": [
        "def lcs(s1, s2):\n",
        "    pass"
      ],
      "metadata": {
        "id": "3AUaIZpSmxh7"
      },
      "execution_count": null,
      "outputs": []
    },
    {
      "cell_type": "code",
      "source": [
        "def longest_common_supersequence(s1, s2):\n",
        "    pass"
      ],
      "metadata": {
        "id": "7ZkMwqlBm2T9"
      },
      "execution_count": null,
      "outputs": []
    },
    {
      "cell_type": "code",
      "source": [
        "def lis(arr):\n",
        "    pass"
      ],
      "metadata": {
        "id": "WXjmTd0pm6VT"
      },
      "execution_count": null,
      "outputs": []
    }
  ]
}