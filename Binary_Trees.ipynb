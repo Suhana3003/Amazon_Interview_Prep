{
  "nbformat": 4,
  "nbformat_minor": 0,
  "metadata": {
    "colab": {
      "provenance": [],
      "authorship_tag": "ABX9TyM8zPizDKSim6UgH/MzSX+P",
      "include_colab_link": true
    },
    "kernelspec": {
      "name": "python3",
      "display_name": "Python 3"
    },
    "language_info": {
      "name": "python"
    }
  },
  "cells": [
    {
      "cell_type": "markdown",
      "metadata": {
        "id": "view-in-github",
        "colab_type": "text"
      },
      "source": [
        "<a href=\"https://colab.research.google.com/github/Suhana3003/Amazon_Interview_Prep/blob/main/Binary_Trees.ipynb\" target=\"_parent\"><img src=\"https://colab.research.google.com/assets/colab-badge.svg\" alt=\"Open In Colab\"/></a>"
      ]
    },
    {
      "cell_type": "code",
      "execution_count": null,
      "metadata": {
        "id": "JagjQtBKa_7W"
      },
      "outputs": [],
      "source": [
        "class Node:\n",
        "    def __init__(self, data):\n",
        "        self.data = data\n",
        "        self.left = None\n",
        "        self.right = None"
      ]
    },
    {
      "cell_type": "code",
      "source": [
        "def buildTree():\n",
        "    data =int(input())\n",
        "    if data == -1:\n",
        "        return None\n",
        "    root = Node(data)\n",
        "    root.left = buildTree()\n",
        "    root.right = buildTree()\n",
        "    return root"
      ],
      "metadata": {
        "id": "EdblaLYybNZs"
      },
      "execution_count": null,
      "outputs": []
    },
    {
      "cell_type": "code",
      "source": [
        "def levelOrderTraversal(root):\n",
        "    from collections import deque\n",
        "    if not root:\n",
        "        return None\n",
        "    ans = []\n",
        "    queue = deque()\n",
        "    queue.append(root)\n",
        "    while queue:\n",
        "        level = []\n",
        "        level_size = len(queue)\n",
        "        for _ in range(level_size):\n",
        "            node = queue.popleft()\n",
        "            level.append(node.data)\n",
        "            if node.left:\n",
        "                queue.append(node.left)\n",
        "            if node.right:\n",
        "                queue.append(node.right)\n",
        "        ans.append(level)\n",
        "    return ans"
      ],
      "metadata": {
        "id": "AQHZC7MPboTB"
      },
      "execution_count": null,
      "outputs": []
    },
    {
      "cell_type": "code",
      "source": [
        "def inorder(root):\n",
        "    if root is None:\n",
        "        return None\n",
        "    inorder(root.left)\n",
        "    print(root.data)\n",
        "    inorder(root.right)\n",
        "    return"
      ],
      "metadata": {
        "id": "JWE8uj2ucoXg"
      },
      "execution_count": null,
      "outputs": []
    },
    {
      "cell_type": "code",
      "source": [
        "def preorder(root):\n",
        "    if root is None:\n",
        "        return None\n",
        "    print(root.data)\n",
        "    inorder(root.left)\n",
        "    inorder(root.right)\n",
        "    return"
      ],
      "metadata": {
        "id": "RUztFvyEc2rW"
      },
      "execution_count": null,
      "outputs": []
    },
    {
      "cell_type": "code",
      "source": [
        "def postorder(root):\n",
        "    if root is None:\n",
        "        return None\n",
        "    inorder(root.left)\n",
        "    inorder(root.right)\n",
        "    print(root.data)\n",
        "    return"
      ],
      "metadata": {
        "id": "0b24JTnpc22G"
      },
      "execution_count": null,
      "outputs": []
    },
    {
      "cell_type": "code",
      "source": [
        "root = buildTree()"
      ],
      "metadata": {
        "colab": {
          "base_uri": "https://localhost:8080/"
        },
        "id": "IaN7D79wdS45",
        "outputId": "375bb815-b8f7-4038-af6e-ac7e1621add1"
      },
      "execution_count": null,
      "outputs": [
        {
          "name": "stdout",
          "output_type": "stream",
          "text": [
            "1\n",
            "2\n",
            "4\n",
            "-1\n",
            "-1\n",
            "-1\n",
            "3\n",
            "-1\n",
            "-1\n"
          ]
        }
      ]
    },
    {
      "cell_type": "code",
      "source": [
        "root.data"
      ],
      "metadata": {
        "colab": {
          "base_uri": "https://localhost:8080/"
        },
        "id": "7cthbWO8d2L1",
        "outputId": "44749d6e-3ccd-4b80-bb08-dd4292e5659b"
      },
      "execution_count": null,
      "outputs": [
        {
          "output_type": "execute_result",
          "data": {
            "text/plain": [
              "1"
            ]
          },
          "metadata": {},
          "execution_count": 19
        }
      ]
    },
    {
      "cell_type": "code",
      "source": [
        "levelOrderTraversal(root)"
      ],
      "metadata": {
        "colab": {
          "base_uri": "https://localhost:8080/"
        },
        "id": "3Oe1dC8OeMks",
        "outputId": "e8a8aad2-c711-4494-d3ce-024171db83e4"
      },
      "execution_count": null,
      "outputs": [
        {
          "output_type": "execute_result",
          "data": {
            "text/plain": [
              "[[1], [2, 3], [4]]"
            ]
          },
          "metadata": {},
          "execution_count": 20
        }
      ]
    },
    {
      "cell_type": "code",
      "source": [
        "preorder(root)"
      ],
      "metadata": {
        "colab": {
          "base_uri": "https://localhost:8080/"
        },
        "id": "p1aLxQtUeVji",
        "outputId": "f31bbed5-5d8e-4011-c133-4aa997be2209"
      },
      "execution_count": null,
      "outputs": [
        {
          "output_type": "stream",
          "name": "stdout",
          "text": [
            "1\n",
            "4\n",
            "2\n",
            "3\n"
          ]
        }
      ]
    }
  ]
}